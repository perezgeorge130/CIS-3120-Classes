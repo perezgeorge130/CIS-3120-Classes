{
 "cells": [
  {
   "cell_type": "code",
   "execution_count": 1,
   "id": "6b88b4bc-a5c4-436d-9eed-8e95600f6d53",
   "metadata": {
    "editable": true,
    "slideshow": {
     "slide_type": ""
    },
    "tags": []
   },
   "outputs": [],
   "source": [
    "from Animal import Animal"
   ]
  },
  {
   "cell_type": "code",
   "execution_count": 2,
   "id": "738a52e3-faf1-4f92-8835-fed5b5e36dfe",
   "metadata": {
    "editable": true,
    "slideshow": {
     "slide_type": ""
    },
    "tags": []
   },
   "outputs": [
    {
     "name": "stdout",
     "output_type": "stream",
     "text": [
      "Hello, my name is George and I am a dog! I weigh 10 pounds and have 5 years left to live\n",
      "Thank you for bringing your dog to the vet. You have just increaed their lifespan by 1 year.\n",
      "Your dog has gained 5 pounds. The current weight is 15\n",
      "Your dog is now 10 pounds.\n",
      "Your dog was loved. They have gained 2 years in lifespan. Thank you for loving them.\n",
      "RAHH\n",
      "Your dog cannot be less than or equal to 5 pounds after a run. It will die\n"
     ]
    }
   ],
   "source": [
    "x = Animal(\"George\", \"Dog\")\n",
    "x.vet()\n",
    "x.feed()\n",
    "x.run(5)\n",
    "x.pet()\n",
    "x.speak()\n",
    "x.run(9)"
   ]
  }
 ],
 "metadata": {
  "kernelspec": {
   "display_name": "Python 3",
   "language": "python",
   "name": "python3"
  },
  "language_info": {
   "codemirror_mode": {
    "name": "ipython",
    "version": 3
   },
   "file_extension": ".py",
   "mimetype": "text/x-python",
   "name": "python",
   "nbconvert_exporter": "python",
   "pygments_lexer": "ipython3",
   "version": "3.11.9"
  }
 },
 "nbformat": 4,
 "nbformat_minor": 5
}
