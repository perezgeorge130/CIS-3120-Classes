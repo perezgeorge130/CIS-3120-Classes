{
 "cells": [
  {
   "cell_type": "code",
   "execution_count": 5,
   "id": "6b88b4bc-a5c4-436d-9eed-8e95600f6d53",
   "metadata": {
    "editable": true,
    "slideshow": {
     "slide_type": ""
    },
    "tags": []
   },
   "outputs": [],
   "source": [
    "from Animal import Animal"
   ]
  },
  {
   "cell_type": "code",
   "execution_count": 6,
   "id": "738a52e3-faf1-4f92-8835-fed5b5e36dfe",
   "metadata": {
    "editable": true,
    "slideshow": {
     "slide_type": ""
    },
    "tags": []
   },
   "outputs": [
    {
     "name": "stdout",
     "output_type": "stream",
     "text": [
      "hello, my name is George and I am a Dog!\n",
      "Thank you for bringing your Dog to the vet. You have just increaed their lifespan by 1.\n",
      "Your pet has gained 5 pounds\n",
      "Your pet is now 10\n",
      "YourDog was petted. They have gained 2 years in lifespan\n",
      "RAHH\n"
     ]
    }
   ],
   "source": [
    "x = Animal(\"George\", \"Dog\")\n",
    "x.vet()\n",
    "x.feed()\n",
    "x.run(5)\n",
    "x.pet()\n",
    "x.speak()"
   ]
  }
 ],
 "metadata": {
  "kernelspec": {
   "display_name": "Python 3",
   "language": "python",
   "name": "python3"
  },
  "language_info": {
   "codemirror_mode": {
    "name": "ipython",
    "version": 3
   },
   "file_extension": ".py",
   "mimetype": "text/x-python",
   "name": "python",
   "nbconvert_exporter": "python",
   "pygments_lexer": "ipython3",
   "version": "3.11.9"
  }
 },
 "nbformat": 4,
 "nbformat_minor": 5
}
